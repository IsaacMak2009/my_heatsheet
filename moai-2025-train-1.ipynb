{
 "cells": [
  {
   "cell_type": "code",
   "execution_count": 1,
   "id": "6257cd58",
   "metadata": {
    "execution": {
     "iopub.execute_input": "2025-04-29T03:13:01.888068Z",
     "iopub.status.busy": "2025-04-29T03:13:01.887337Z",
     "iopub.status.idle": "2025-04-29T03:13:12.405430Z",
     "shell.execute_reply": "2025-04-29T03:13:12.404557Z"
    },
    "papermill": {
     "duration": 10.524047,
     "end_time": "2025-04-29T03:13:12.406945",
     "exception": false,
     "start_time": "2025-04-29T03:13:01.882898",
     "status": "completed"
    },
    "tags": []
   },
   "outputs": [],
   "source": [
    "import os\n",
    "import random\n",
    "import numpy as np\n",
    "import pandas as pd\n",
    "import cv2\n",
    "from tqdm.notebook import tqdm, trange\n",
    "import matplotlib.pyplot as plt\n",
    "import matplotlib.pyplot as plt\n",
    "from mpl_toolkits.axes_grid1 import ImageGrid\n",
    "import matplotlib.image as mpimg\n",
    "%matplotlib inline\n",
    "\n",
    "import torch\n",
    "import torch.nn as nn\n",
    "import torch.optim as optim\n",
    "import torch.nn.functional as F\n",
    "from torch.utils.data import random_split, TensorDataset\n",
    "from torch.utils.data.dataloader import DataLoader\n",
    "\n",
    "from torchvision import datasets, transforms, models \n",
    "from torchvision.datasets import ImageFolder\n",
    "from torchvision.transforms import ToTensor\n",
    "from torchvision.utils import make_grid\n",
    "\n",
    "import warnings\n",
    "warnings.filterwarnings(\"ignore\")"
   ]
  },
  {
   "cell_type": "code",
   "execution_count": 2,
   "id": "a6e89d93",
   "metadata": {
    "execution": {
     "iopub.execute_input": "2025-04-29T03:13:12.414187Z",
     "iopub.status.busy": "2025-04-29T03:13:12.413579Z",
     "iopub.status.idle": "2025-04-29T03:13:12.416883Z",
     "shell.execute_reply": "2025-04-29T03:13:12.416341Z"
    },
    "papermill": {
     "duration": 0.007731,
     "end_time": "2025-04-29T03:13:12.417954",
     "exception": false,
     "start_time": "2025-04-29T03:13:12.410223",
     "status": "completed"
    },
    "tags": []
   },
   "outputs": [],
   "source": [
    "TRAIN_RATIO = 0.8\n",
    "EPOCHS = 50\n",
    "BATCH_SIZE = 32"
   ]
  },
  {
   "cell_type": "code",
   "execution_count": 3,
   "id": "a51eeeed",
   "metadata": {
    "execution": {
     "iopub.execute_input": "2025-04-29T03:13:12.424174Z",
     "iopub.status.busy": "2025-04-29T03:13:12.423983Z",
     "iopub.status.idle": "2025-04-29T03:13:12.471206Z",
     "shell.execute_reply": "2025-04-29T03:13:12.470660Z"
    },
    "papermill": {
     "duration": 0.0517,
     "end_time": "2025-04-29T03:13:12.472335",
     "exception": false,
     "start_time": "2025-04-29T03:13:12.420635",
     "status": "completed"
    },
    "tags": []
   },
   "outputs": [],
   "source": [
    "device = torch.device('cuda:0' if torch.cuda.is_available() else 'cpu')"
   ]
  },
  {
   "cell_type": "markdown",
   "id": "f5402e46",
   "metadata": {
    "papermill": {
     "duration": 0.002469,
     "end_time": "2025-04-29T03:13:12.477593",
     "exception": false,
     "start_time": "2025-04-29T03:13:12.475124",
     "status": "completed"
    },
    "tags": []
   },
   "source": [
    "## 小題 1：數據讀取與預處理 (15 分)"
   ]
  },
  {
   "cell_type": "code",
   "execution_count": 4,
   "id": "b9e717d4",
   "metadata": {
    "execution": {
     "iopub.execute_input": "2025-04-29T03:13:12.483776Z",
     "iopub.status.busy": "2025-04-29T03:13:12.483312Z",
     "iopub.status.idle": "2025-04-29T03:13:12.986891Z",
     "shell.execute_reply": "2025-04-29T03:13:12.986265Z"
    },
    "papermill": {
     "duration": 0.50807,
     "end_time": "2025-04-29T03:13:12.988253",
     "exception": false,
     "start_time": "2025-04-29T03:13:12.480183",
     "status": "completed"
    },
    "tags": []
   },
   "outputs": [],
   "source": [
    "train_imgs = torch.load(\"/kaggle/input/moai-2025-training/train_images.pt\").to(torch.float32) / 255\n",
    "train_imgs = torch.unsqueeze(train_imgs, 1)\n",
    "test_imgs = torch.load(\"/kaggle/input/moai-2025-training/test_images.pt\")\n",
    "train_labels = pd.read_csv(\"/kaggle/input/moai-2025-training/train_labels.csv\").to_numpy()[:,1]\n",
    "train_labels = F.one_hot(torch.Tensor(train_labels).to(torch.int64), num_classes=10).to(torch.float32)"
   ]
  },
  {
   "cell_type": "code",
   "execution_count": 5,
   "id": "f701d3d4",
   "metadata": {
    "execution": {
     "iopub.execute_input": "2025-04-29T03:13:12.994756Z",
     "iopub.status.busy": "2025-04-29T03:13:12.994502Z",
     "iopub.status.idle": "2025-04-29T03:13:13.199402Z",
     "shell.execute_reply": "2025-04-29T03:13:13.198830Z"
    },
    "papermill": {
     "duration": 0.209504,
     "end_time": "2025-04-29T03:13:13.200617",
     "exception": false,
     "start_time": "2025-04-29T03:13:12.991113",
     "status": "completed"
    },
    "tags": []
   },
   "outputs": [],
   "source": [
    "train_imgs = train_imgs.to(device)\n",
    "train_labels = train_labels.to(device)"
   ]
  },
  {
   "cell_type": "markdown",
   "id": "8e76837b",
   "metadata": {
    "papermill": {
     "duration": 0.002649,
     "end_time": "2025-04-29T03:13:13.208244",
     "exception": false,
     "start_time": "2025-04-29T03:13:13.205595",
     "status": "completed"
    },
    "tags": []
   },
   "source": [
    "分割數據"
   ]
  },
  {
   "cell_type": "code",
   "execution_count": 6,
   "id": "6e3380e2",
   "metadata": {
    "execution": {
     "iopub.execute_input": "2025-04-29T03:13:13.214652Z",
     "iopub.status.busy": "2025-04-29T03:13:13.214423Z",
     "iopub.status.idle": "2025-04-29T03:13:13.224064Z",
     "shell.execute_reply": "2025-04-29T03:13:13.223383Z"
    },
    "papermill": {
     "duration": 0.014186,
     "end_time": "2025-04-29T03:13:13.225125",
     "exception": false,
     "start_time": "2025-04-29T03:13:13.210939",
     "status": "completed"
    },
    "tags": []
   },
   "outputs": [],
   "source": [
    "l = int(train_imgs.shape[0] * TRAIN_RATIO)\n",
    "trainset = TensorDataset(train_imgs[:l], train_labels[:l])\n",
    "testset = TensorDataset(train_imgs[l:], train_labels[l:])"
   ]
  },
  {
   "cell_type": "code",
   "execution_count": 7,
   "id": "32a9dd09",
   "metadata": {
    "execution": {
     "iopub.execute_input": "2025-04-29T03:13:13.230915Z",
     "iopub.status.busy": "2025-04-29T03:13:13.230718Z",
     "iopub.status.idle": "2025-04-29T03:13:13.234042Z",
     "shell.execute_reply": "2025-04-29T03:13:13.233544Z"
    },
    "papermill": {
     "duration": 0.007365,
     "end_time": "2025-04-29T03:13:13.235105",
     "exception": false,
     "start_time": "2025-04-29T03:13:13.227740",
     "status": "completed"
    },
    "tags": []
   },
   "outputs": [],
   "source": [
    "train_dataloader = DataLoader(trainset, batch_size=BATCH_SIZE, shuffle=True)\n",
    "test_dataloader = DataLoader(testset, batch_size=BATCH_SIZE, shuffle=True)"
   ]
  },
  {
   "cell_type": "markdown",
   "id": "de0b5290",
   "metadata": {
    "papermill": {
     "duration": 0.002467,
     "end_time": "2025-04-29T03:13:13.240315",
     "exception": false,
     "start_time": "2025-04-29T03:13:13.237848",
     "status": "completed"
    },
    "tags": []
   },
   "source": [
    "## 小題 2：構建 CNN 模型 (15 分)"
   ]
  },
  {
   "cell_type": "code",
   "execution_count": 8,
   "id": "f2ae7089",
   "metadata": {
    "execution": {
     "iopub.execute_input": "2025-04-29T03:13:13.246135Z",
     "iopub.status.busy": "2025-04-29T03:13:13.245940Z",
     "iopub.status.idle": "2025-04-29T03:13:13.259471Z",
     "shell.execute_reply": "2025-04-29T03:13:13.259006Z"
    },
    "papermill": {
     "duration": 0.017523,
     "end_time": "2025-04-29T03:13:13.260403",
     "exception": false,
     "start_time": "2025-04-29T03:13:13.242880",
     "status": "completed"
    },
    "tags": []
   },
   "outputs": [],
   "source": [
    "model = nn.Sequential(\n",
    "    nn.Conv2d(1,20,3,padding=1),\n",
    "    nn.MaxPool2d(2),\n",
    "    nn.ReLU(),\n",
    "    nn.Conv2d(20,64,3,padding=1),\n",
    "    nn.MaxPool2d(2),\n",
    "    nn.Flatten(),\n",
    "    nn.ReLU(),\n",
    "    nn.Linear(64 * 7 * 7, 256),\n",
    "    nn.ReLU(),\n",
    "    nn.Linear(256, 10),\n",
    "    nn.Softmax(),\n",
    ")"
   ]
  },
  {
   "cell_type": "markdown",
   "id": "1e75f6c5",
   "metadata": {
    "papermill": {
     "duration": 0.002359,
     "end_time": "2025-04-29T03:13:13.265315",
     "exception": false,
     "start_time": "2025-04-29T03:13:13.262956",
     "status": "completed"
    },
    "tags": []
   },
   "source": [
    "## 小題 3：訓練模型 (20 分)"
   ]
  },
  {
   "cell_type": "code",
   "execution_count": 9,
   "id": "df474124",
   "metadata": {
    "execution": {
     "iopub.execute_input": "2025-04-29T03:13:13.271009Z",
     "iopub.status.busy": "2025-04-29T03:13:13.270812Z",
     "iopub.status.idle": "2025-04-29T03:13:13.277704Z",
     "shell.execute_reply": "2025-04-29T03:13:13.277225Z"
    },
    "papermill": {
     "duration": 0.010846,
     "end_time": "2025-04-29T03:13:13.278678",
     "exception": false,
     "start_time": "2025-04-29T03:13:13.267832",
     "status": "completed"
    },
    "tags": []
   },
   "outputs": [],
   "source": [
    "model = model.to(device)\n",
    "criterion = nn.CrossEntropyLoss()\n",
    "optimizer = optim.SGD(model.parameters(), lr=0.005, momentum=0.9)"
   ]
  },
  {
   "cell_type": "code",
   "execution_count": 10,
   "id": "e53e92fa",
   "metadata": {
    "execution": {
     "iopub.execute_input": "2025-04-29T03:13:13.284369Z",
     "iopub.status.busy": "2025-04-29T03:13:13.284182Z",
     "iopub.status.idle": "2025-04-29T03:13:13.314455Z",
     "shell.execute_reply": "2025-04-29T03:13:13.313730Z"
    },
    "papermill": {
     "duration": 0.034403,
     "end_time": "2025-04-29T03:13:13.315629",
     "exception": false,
     "start_time": "2025-04-29T03:13:13.281226",
     "status": "completed"
    },
    "tags": []
   },
   "outputs": [
    {
     "name": "stdout",
     "output_type": "stream",
     "text": [
      "cuda:0\n"
     ]
    }
   ],
   "source": [
    "for i in train_dataloader:\n",
    "    print(i[0].device)\n",
    "    break"
   ]
  },
  {
   "cell_type": "code",
   "execution_count": 11,
   "id": "eb89dc2a",
   "metadata": {
    "execution": {
     "iopub.execute_input": "2025-04-29T03:13:13.321631Z",
     "iopub.status.busy": "2025-04-29T03:13:13.321429Z",
     "iopub.status.idle": "2025-04-29T03:16:06.050720Z",
     "shell.execute_reply": "2025-04-29T03:16:06.050086Z"
    },
    "papermill": {
     "duration": 172.733934,
     "end_time": "2025-04-29T03:16:06.052216",
     "exception": false,
     "start_time": "2025-04-29T03:13:13.318282",
     "status": "completed"
    },
    "tags": []
   },
   "outputs": [
    {
     "data": {
      "application/vnd.jupyter.widget-view+json": {
       "model_id": "4ce3b40d5fd44d4c9dd25f4925a5bf01",
       "version_major": 2,
       "version_minor": 0
      },
      "text/plain": [
       "  0%|          | 0/50 [00:00<?, ?it/s]"
      ]
     },
     "metadata": {},
     "output_type": "display_data"
    },
    {
     "name": "stdout",
     "output_type": "stream",
     "text": [
      "[Epoch 1] loss: 1.432 | 0.308, acc: 82.125\n",
      "[Epoch 2] loss: 1.198 | 0.287, acc: 93.242\n",
      "[Epoch 3] loss: 1.142 | 0.282, acc: 95.808\n",
      "[Epoch 4] loss: 1.129 | 0.280, acc: 96.783\n",
      "[Epoch 5] loss: 1.122 | 0.280, acc: 97.183\n",
      "[Epoch 6] loss: 1.117 | 0.279, acc: 97.517\n",
      "[Epoch 7] loss: 1.115 | 0.279, acc: 97.733\n",
      "[Epoch 8] loss: 1.112 | 0.278, acc: 97.883\n",
      "[Epoch 9] loss: 1.111 | 0.278, acc: 97.817\n",
      "[Epoch 10] loss: 1.110 | 0.278, acc: 97.833\n",
      "[Epoch 11] loss: 1.108 | 0.278, acc: 98.192\n",
      "[Epoch 12] loss: 1.108 | 0.278, acc: 98.200\n",
      "[Epoch 13] loss: 1.107 | 0.277, acc: 98.350\n",
      "[Epoch 14] loss: 1.106 | 0.278, acc: 98.108\n",
      "[Epoch 15] loss: 1.106 | 0.277, acc: 98.367\n",
      "[Epoch 16] loss: 1.105 | 0.277, acc: 98.408\n",
      "[Epoch 17] loss: 1.104 | 0.277, acc: 98.275\n",
      "[Epoch 18] loss: 1.104 | 0.277, acc: 98.500\n",
      "[Epoch 19] loss: 1.104 | 0.277, acc: 98.308\n",
      "[Epoch 20] loss: 1.103 | 0.277, acc: 98.425\n",
      "[Epoch 21] loss: 1.102 | 0.277, acc: 98.625\n",
      "[Epoch 22] loss: 1.102 | 0.277, acc: 98.683\n",
      "[Epoch 23] loss: 1.102 | 0.277, acc: 98.717\n",
      "[Epoch 24] loss: 1.101 | 0.277, acc: 98.650\n",
      "[Epoch 25] loss: 1.101 | 0.277, acc: 98.483\n",
      "[Epoch 26] loss: 1.101 | 0.277, acc: 98.700\n",
      "[Epoch 27] loss: 1.101 | 0.276, acc: 98.667\n",
      "[Epoch 28] loss: 1.100 | 0.277, acc: 98.550\n",
      "[Epoch 29] loss: 1.100 | 0.277, acc: 98.542\n",
      "[Epoch 30] loss: 1.100 | 0.277, acc: 98.583\n",
      "[Epoch 31] loss: 1.100 | 0.277, acc: 98.667\n",
      "[Epoch 32] loss: 1.100 | 0.277, acc: 98.617\n",
      "[Epoch 33] loss: 1.099 | 0.277, acc: 98.625\n",
      "[Epoch 34] loss: 1.099 | 0.277, acc: 98.592\n",
      "[Epoch 35] loss: 1.099 | 0.276, acc: 98.642\n",
      "[Epoch 36] loss: 1.099 | 0.276, acc: 98.725\n",
      "[Epoch 37] loss: 1.099 | 0.276, acc: 98.700\n",
      "[Epoch 38] loss: 1.099 | 0.277, acc: 98.650\n",
      "[Epoch 39] loss: 1.099 | 0.277, acc: 98.625\n",
      "[Epoch 40] loss: 1.099 | 0.276, acc: 98.758\n",
      "[Epoch 41] loss: 1.099 | 0.276, acc: 98.692\n",
      "[Epoch 42] loss: 1.099 | 0.277, acc: 98.658\n",
      "[Epoch 43] loss: 1.099 | 0.277, acc: 98.592\n",
      "[Epoch 44] loss: 1.099 | 0.276, acc: 98.808\n",
      "[Epoch 45] loss: 1.099 | 0.276, acc: 98.825\n",
      "[Epoch 46] loss: 1.099 | 0.276, acc: 98.767\n",
      "[Epoch 47] loss: 1.098 | 0.276, acc: 98.758\n",
      "[Epoch 48] loss: 1.098 | 0.277, acc: 98.583\n",
      "[Epoch 49] loss: 1.098 | 0.276, acc: 98.750\n",
      "[Epoch 50] loss: 1.098 | 0.276, acc: 98.733\n",
      "Finished Training\n"
     ]
    }
   ],
   "source": [
    "for epoch in trange(EPOCHS, position=0):\n",
    "    training_loss = 0.0\n",
    "    validing_loss = 0.0\n",
    "    \n",
    "    model.train()\n",
    "    for batch in train_dataloader:\n",
    "        # get the inputs; data is a list of [inputs, labels]\n",
    "        images, labels = batch\n",
    "\n",
    "        # zero the parameter gradients\n",
    "        optimizer.zero_grad()\n",
    "\n",
    "        # forward + backward + optimize\n",
    "        outputs = model(images)\n",
    "        loss = criterion(outputs, labels)\n",
    "        loss.backward()\n",
    "        optimizer.step()\n",
    "\n",
    "        training_loss += loss.item()\n",
    "\n",
    "    model.eval()\n",
    "    total = 0\n",
    "    corr = 0\n",
    "    for batch in test_dataloader:\n",
    "        # get the inputs; data is a list of [inputs, labels]\n",
    "        images, labels = batch\n",
    "\n",
    "        # forward only\n",
    "        outputs = model(images)\n",
    "        loss = criterion(outputs, labels)\n",
    "        validing_loss += loss.item()\n",
    "        \n",
    "        lab = torch.argmax(labels, axis=1)\n",
    "        out = torch.argmax(outputs, axis=1)\n",
    "        corr += BATCH_SIZE - len(torch.nonzero(lab - out))\n",
    "        total += BATCH_SIZE\n",
    "\n",
    "    tqdm.write(f'[Epoch {epoch + 1}] loss: {training_loss / 2000:.3f} | {validing_loss / 2000:.3f}, acc: {corr / total * 100:.3f}')\n",
    "\n",
    "print('Finished Training')"
   ]
  },
  {
   "cell_type": "markdown",
   "id": "cae152b6",
   "metadata": {
    "papermill": {
     "duration": 0.004635,
     "end_time": "2025-04-29T03:16:06.061854",
     "exception": false,
     "start_time": "2025-04-29T03:16:06.057219",
     "status": "completed"
    },
    "tags": []
   },
   "source": [
    "### Validate Model"
   ]
  },
  {
   "cell_type": "code",
   "execution_count": 12,
   "id": "5ac34360",
   "metadata": {
    "execution": {
     "iopub.execute_input": "2025-04-29T03:16:06.071903Z",
     "iopub.status.busy": "2025-04-29T03:16:06.071471Z",
     "iopub.status.idle": "2025-04-29T03:16:06.097159Z",
     "shell.execute_reply": "2025-04-29T03:16:06.096345Z"
    },
    "papermill": {
     "duration": 0.032154,
     "end_time": "2025-04-29T03:16:06.098472",
     "exception": false,
     "start_time": "2025-04-29T03:16:06.066318",
     "status": "completed"
    },
    "tags": []
   },
   "outputs": [],
   "source": [
    "model.eval()\n",
    "test_imgs = test_imgs.to(device).to(torch.float32)\n",
    "test_imgs = torch.unsqueeze(test_imgs, 1)"
   ]
  },
  {
   "cell_type": "code",
   "execution_count": 13,
   "id": "ead1908e",
   "metadata": {
    "execution": {
     "iopub.execute_input": "2025-04-29T03:16:06.109313Z",
     "iopub.status.busy": "2025-04-29T03:16:06.109068Z",
     "iopub.status.idle": "2025-04-29T03:16:06.113522Z",
     "shell.execute_reply": "2025-04-29T03:16:06.112981Z"
    },
    "papermill": {
     "duration": 0.010892,
     "end_time": "2025-04-29T03:16:06.114505",
     "exception": false,
     "start_time": "2025-04-29T03:16:06.103613",
     "status": "completed"
    },
    "tags": []
   },
   "outputs": [
    {
     "data": {
      "text/plain": [
       "torch.Size([10000, 1, 28, 28])"
      ]
     },
     "execution_count": 13,
     "metadata": {},
     "output_type": "execute_result"
    }
   ],
   "source": [
    "test_imgs.shape"
   ]
  },
  {
   "cell_type": "code",
   "execution_count": 14,
   "id": "f72bdf17",
   "metadata": {
    "execution": {
     "iopub.execute_input": "2025-04-29T03:16:06.125030Z",
     "iopub.status.busy": "2025-04-29T03:16:06.124798Z",
     "iopub.status.idle": "2025-04-29T03:16:06.189451Z",
     "shell.execute_reply": "2025-04-29T03:16:06.188886Z"
    },
    "papermill": {
     "duration": 0.071458,
     "end_time": "2025-04-29T03:16:06.190805",
     "exception": false,
     "start_time": "2025-04-29T03:16:06.119347",
     "status": "completed"
    },
    "tags": []
   },
   "outputs": [],
   "source": [
    "test_predict = model(test_imgs)\n",
    "test_predict = torch.argmax(test_predict, axis=1)\n",
    "df = pd.DataFrame(test_predict.cpu().numpy())\n",
    "df.to_csv(\"test_labels.csv\", header=[\"label\"], index_label=\"id\")\n",
    "df.to_csv(\"submission.csv\", header=[\"label\"], index_label=\"id\")"
   ]
  }
 ],
 "metadata": {
  "kaggle": {
   "accelerator": "gpu",
   "dataSources": [
    {
     "databundleVersionId": 11751604,
     "sourceId": 98462,
     "sourceType": "competition"
    }
   ],
   "dockerImageVersionId": 31012,
   "isGpuEnabled": true,
   "isInternetEnabled": true,
   "language": "python",
   "sourceType": "notebook"
  },
  "kernelspec": {
   "display_name": "Python 3",
   "language": "python",
   "name": "python3"
  },
  "language_info": {
   "codemirror_mode": {
    "name": "ipython",
    "version": 3
   },
   "file_extension": ".py",
   "mimetype": "text/x-python",
   "name": "python",
   "nbconvert_exporter": "python",
   "pygments_lexer": "ipython3",
   "version": "3.11.11"
  },
  "papermill": {
   "default_parameters": {},
   "duration": 191.280525,
   "end_time": "2025-04-29T03:16:09.063179",
   "environment_variables": {},
   "exception": null,
   "input_path": "__notebook__.ipynb",
   "output_path": "__notebook__.ipynb",
   "parameters": {},
   "start_time": "2025-04-29T03:12:57.782654",
   "version": "2.6.0"
  },
  "widgets": {
   "application/vnd.jupyter.widget-state+json": {
    "state": {
     "126a00c8f7144b09b40d76b8e9430aec": {
      "model_module": "@jupyter-widgets/controls",
      "model_module_version": "2.0.0",
      "model_name": "HTMLStyleModel",
      "state": {
       "_model_module": "@jupyter-widgets/controls",
       "_model_module_version": "2.0.0",
       "_model_name": "HTMLStyleModel",
       "_view_count": null,
       "_view_module": "@jupyter-widgets/base",
       "_view_module_version": "2.0.0",
       "_view_name": "StyleView",
       "background": null,
       "description_width": "",
       "font_size": null,
       "text_color": null
      }
     },
     "20fe2d247b2747c29f12448ef7e0cf54": {
      "model_module": "@jupyter-widgets/controls",
      "model_module_version": "2.0.0",
      "model_name": "FloatProgressModel",
      "state": {
       "_dom_classes": [],
       "_model_module": "@jupyter-widgets/controls",
       "_model_module_version": "2.0.0",
       "_model_name": "FloatProgressModel",
       "_view_count": null,
       "_view_module": "@jupyter-widgets/controls",
       "_view_module_version": "2.0.0",
       "_view_name": "ProgressView",
       "bar_style": "success",
       "description": "",
       "description_allow_html": false,
       "layout": "IPY_MODEL_49a6cc7bb6c543e1891093a7ae1d1579",
       "max": 50.0,
       "min": 0.0,
       "orientation": "horizontal",
       "style": "IPY_MODEL_79c2008141b44a8a828bceed67f47b4f",
       "tabbable": null,
       "tooltip": null,
       "value": 50.0
      }
     },
     "49a6cc7bb6c543e1891093a7ae1d1579": {
      "model_module": "@jupyter-widgets/base",
      "model_module_version": "2.0.0",
      "model_name": "LayoutModel",
      "state": {
       "_model_module": "@jupyter-widgets/base",
       "_model_module_version": "2.0.0",
       "_model_name": "LayoutModel",
       "_view_count": null,
       "_view_module": "@jupyter-widgets/base",
       "_view_module_version": "2.0.0",
       "_view_name": "LayoutView",
       "align_content": null,
       "align_items": null,
       "align_self": null,
       "border_bottom": null,
       "border_left": null,
       "border_right": null,
       "border_top": null,
       "bottom": null,
       "display": null,
       "flex": null,
       "flex_flow": null,
       "grid_area": null,
       "grid_auto_columns": null,
       "grid_auto_flow": null,
       "grid_auto_rows": null,
       "grid_column": null,
       "grid_gap": null,
       "grid_row": null,
       "grid_template_areas": null,
       "grid_template_columns": null,
       "grid_template_rows": null,
       "height": null,
       "justify_content": null,
       "justify_items": null,
       "left": null,
       "margin": null,
       "max_height": null,
       "max_width": null,
       "min_height": null,
       "min_width": null,
       "object_fit": null,
       "object_position": null,
       "order": null,
       "overflow": null,
       "padding": null,
       "right": null,
       "top": null,
       "visibility": null,
       "width": null
      }
     },
     "4ce3b40d5fd44d4c9dd25f4925a5bf01": {
      "model_module": "@jupyter-widgets/controls",
      "model_module_version": "2.0.0",
      "model_name": "HBoxModel",
      "state": {
       "_dom_classes": [],
       "_model_module": "@jupyter-widgets/controls",
       "_model_module_version": "2.0.0",
       "_model_name": "HBoxModel",
       "_view_count": null,
       "_view_module": "@jupyter-widgets/controls",
       "_view_module_version": "2.0.0",
       "_view_name": "HBoxView",
       "box_style": "",
       "children": [
        "IPY_MODEL_e7d02178602548cfb1bff3918f64037d",
        "IPY_MODEL_20fe2d247b2747c29f12448ef7e0cf54",
        "IPY_MODEL_73b0eadaf20448d9a85f9e82767bc794"
       ],
       "layout": "IPY_MODEL_efadafad8f5b40f299db2e6260bea30c",
       "tabbable": null,
       "tooltip": null
      }
     },
     "6a3645a6b8ed4dc9a28c41170b0f8faf": {
      "model_module": "@jupyter-widgets/controls",
      "model_module_version": "2.0.0",
      "model_name": "HTMLStyleModel",
      "state": {
       "_model_module": "@jupyter-widgets/controls",
       "_model_module_version": "2.0.0",
       "_model_name": "HTMLStyleModel",
       "_view_count": null,
       "_view_module": "@jupyter-widgets/base",
       "_view_module_version": "2.0.0",
       "_view_name": "StyleView",
       "background": null,
       "description_width": "",
       "font_size": null,
       "text_color": null
      }
     },
     "73b0eadaf20448d9a85f9e82767bc794": {
      "model_module": "@jupyter-widgets/controls",
      "model_module_version": "2.0.0",
      "model_name": "HTMLModel",
      "state": {
       "_dom_classes": [],
       "_model_module": "@jupyter-widgets/controls",
       "_model_module_version": "2.0.0",
       "_model_name": "HTMLModel",
       "_view_count": null,
       "_view_module": "@jupyter-widgets/controls",
       "_view_module_version": "2.0.0",
       "_view_name": "HTMLView",
       "description": "",
       "description_allow_html": false,
       "layout": "IPY_MODEL_ee3cfed5c2604f17945cacd6dc2ea45f",
       "placeholder": "​",
       "style": "IPY_MODEL_6a3645a6b8ed4dc9a28c41170b0f8faf",
       "tabbable": null,
       "tooltip": null,
       "value": " 50/50 [02:52&lt;00:00,  3.42s/it]"
      }
     },
     "79c2008141b44a8a828bceed67f47b4f": {
      "model_module": "@jupyter-widgets/controls",
      "model_module_version": "2.0.0",
      "model_name": "ProgressStyleModel",
      "state": {
       "_model_module": "@jupyter-widgets/controls",
       "_model_module_version": "2.0.0",
       "_model_name": "ProgressStyleModel",
       "_view_count": null,
       "_view_module": "@jupyter-widgets/base",
       "_view_module_version": "2.0.0",
       "_view_name": "StyleView",
       "bar_color": null,
       "description_width": ""
      }
     },
     "e10b9fc55e5940d6bddcfe0707cfb9fd": {
      "model_module": "@jupyter-widgets/base",
      "model_module_version": "2.0.0",
      "model_name": "LayoutModel",
      "state": {
       "_model_module": "@jupyter-widgets/base",
       "_model_module_version": "2.0.0",
       "_model_name": "LayoutModel",
       "_view_count": null,
       "_view_module": "@jupyter-widgets/base",
       "_view_module_version": "2.0.0",
       "_view_name": "LayoutView",
       "align_content": null,
       "align_items": null,
       "align_self": null,
       "border_bottom": null,
       "border_left": null,
       "border_right": null,
       "border_top": null,
       "bottom": null,
       "display": null,
       "flex": null,
       "flex_flow": null,
       "grid_area": null,
       "grid_auto_columns": null,
       "grid_auto_flow": null,
       "grid_auto_rows": null,
       "grid_column": null,
       "grid_gap": null,
       "grid_row": null,
       "grid_template_areas": null,
       "grid_template_columns": null,
       "grid_template_rows": null,
       "height": null,
       "justify_content": null,
       "justify_items": null,
       "left": null,
       "margin": null,
       "max_height": null,
       "max_width": null,
       "min_height": null,
       "min_width": null,
       "object_fit": null,
       "object_position": null,
       "order": null,
       "overflow": null,
       "padding": null,
       "right": null,
       "top": null,
       "visibility": null,
       "width": null
      }
     },
     "e7d02178602548cfb1bff3918f64037d": {
      "model_module": "@jupyter-widgets/controls",
      "model_module_version": "2.0.0",
      "model_name": "HTMLModel",
      "state": {
       "_dom_classes": [],
       "_model_module": "@jupyter-widgets/controls",
       "_model_module_version": "2.0.0",
       "_model_name": "HTMLModel",
       "_view_count": null,
       "_view_module": "@jupyter-widgets/controls",
       "_view_module_version": "2.0.0",
       "_view_name": "HTMLView",
       "description": "",
       "description_allow_html": false,
       "layout": "IPY_MODEL_e10b9fc55e5940d6bddcfe0707cfb9fd",
       "placeholder": "​",
       "style": "IPY_MODEL_126a00c8f7144b09b40d76b8e9430aec",
       "tabbable": null,
       "tooltip": null,
       "value": "100%"
      }
     },
     "ee3cfed5c2604f17945cacd6dc2ea45f": {
      "model_module": "@jupyter-widgets/base",
      "model_module_version": "2.0.0",
      "model_name": "LayoutModel",
      "state": {
       "_model_module": "@jupyter-widgets/base",
       "_model_module_version": "2.0.0",
       "_model_name": "LayoutModel",
       "_view_count": null,
       "_view_module": "@jupyter-widgets/base",
       "_view_module_version": "2.0.0",
       "_view_name": "LayoutView",
       "align_content": null,
       "align_items": null,
       "align_self": null,
       "border_bottom": null,
       "border_left": null,
       "border_right": null,
       "border_top": null,
       "bottom": null,
       "display": null,
       "flex": null,
       "flex_flow": null,
       "grid_area": null,
       "grid_auto_columns": null,
       "grid_auto_flow": null,
       "grid_auto_rows": null,
       "grid_column": null,
       "grid_gap": null,
       "grid_row": null,
       "grid_template_areas": null,
       "grid_template_columns": null,
       "grid_template_rows": null,
       "height": null,
       "justify_content": null,
       "justify_items": null,
       "left": null,
       "margin": null,
       "max_height": null,
       "max_width": null,
       "min_height": null,
       "min_width": null,
       "object_fit": null,
       "object_position": null,
       "order": null,
       "overflow": null,
       "padding": null,
       "right": null,
       "top": null,
       "visibility": null,
       "width": null
      }
     },
     "efadafad8f5b40f299db2e6260bea30c": {
      "model_module": "@jupyter-widgets/base",
      "model_module_version": "2.0.0",
      "model_name": "LayoutModel",
      "state": {
       "_model_module": "@jupyter-widgets/base",
       "_model_module_version": "2.0.0",
       "_model_name": "LayoutModel",
       "_view_count": null,
       "_view_module": "@jupyter-widgets/base",
       "_view_module_version": "2.0.0",
       "_view_name": "LayoutView",
       "align_content": null,
       "align_items": null,
       "align_self": null,
       "border_bottom": null,
       "border_left": null,
       "border_right": null,
       "border_top": null,
       "bottom": null,
       "display": null,
       "flex": null,
       "flex_flow": null,
       "grid_area": null,
       "grid_auto_columns": null,
       "grid_auto_flow": null,
       "grid_auto_rows": null,
       "grid_column": null,
       "grid_gap": null,
       "grid_row": null,
       "grid_template_areas": null,
       "grid_template_columns": null,
       "grid_template_rows": null,
       "height": null,
       "justify_content": null,
       "justify_items": null,
       "left": null,
       "margin": null,
       "max_height": null,
       "max_width": null,
       "min_height": null,
       "min_width": null,
       "object_fit": null,
       "object_position": null,
       "order": null,
       "overflow": null,
       "padding": null,
       "right": null,
       "top": null,
       "visibility": null,
       "width": null
      }
     }
    },
    "version_major": 2,
    "version_minor": 0
   }
  }
 },
 "nbformat": 4,
 "nbformat_minor": 5
}
